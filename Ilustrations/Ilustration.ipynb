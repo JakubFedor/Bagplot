{
 "cells": [
  {
   "cell_type": "code",
   "id": "initial_id",
   "metadata": {
    "collapsed": true,
    "ExecuteTime": {
     "end_time": "2025-07-11T07:31:46.117386Z",
     "start_time": "2025-07-11T07:31:46.110367Z"
    }
   },
   "source": [
    "import scipy\n",
    "from bagplot import bagplot\n",
    "import pandas as pd\n",
    "import math"
   ],
   "outputs": [],
   "execution_count": 13
  },
  {
   "metadata": {
    "ExecuteTime": {
     "end_time": "2025-07-11T07:31:44.876529Z",
     "start_time": "2025-07-11T07:31:44.867678Z"
    }
   },
   "cell_type": "code",
   "source": [
    "def lat_lon_to_xyz(latitude, longitude, radius=1.0):\n",
    "    \"\"\"\n",
    "    Transforms latitude and longitude into 3D Cartesian (x, y, z) coordinates\n",
    "    on a sphere of a given radius.\n",
    "\n",
    "    Args:\n",
    "        latitude (float): Latitude in degrees.\n",
    "        longitude (float): Longitude in degrees.\n",
    "        radius (float, optional): The radius of the sphere. Defaults to 1.0,\n",
    "                                  resulting in coordinates on a unit sphere.\n",
    "\n",
    "    Returns:\n",
    "        tuple: A tuple containing the (x, y, z) coordinates.\n",
    "    \"\"\"\n",
    "    # Convert degrees to radians\n",
    "    lat_rad = math.radians(latitude)\n",
    "    lon_rad = math.radians(longitude)\n",
    "\n",
    "    # Calculate Cartesian coordinates\n",
    "    x = radius * math.cos(lat_rad) * math.cos(lon_rad)\n",
    "    y = radius * math.cos(lat_rad) * math.sin(lon_rad)\n",
    "    z = radius * math.sin(lat_rad)\n",
    "\n",
    "    return [x, y, z]"
   ],
   "id": "cae9c1e726347dc1",
   "outputs": [],
   "execution_count": 12
  },
  {
   "cell_type": "code",
   "id": "bfceeb7a5714eddb",
   "metadata": {},
   "source": "dataset = scipy.stats.vonmises_fisher.rvs(mu=(0,0,1),kappa=2,size=1000,random_state=1)",
   "outputs": [],
   "execution_count": null
  },
  {
   "cell_type": "code",
   "id": "43d78fca8e0fd0c",
   "metadata": {
    "ExecuteTime": {
     "end_time": "2025-07-11T07:25:59.602678Z",
     "start_time": "2025-07-11T07:24:38.620661Z"
    }
   },
   "source": "bagplot(dataset, savefig=True, interactive=False, borderdist=\"mean\",figname=\"meannogeo.pdf\")",
   "outputs": [
    {
     "name": "stdout",
     "output_type": "stream",
     "text": [
      "Image saved as 'meannogeo.pdf'\n"
     ]
    }
   ],
   "execution_count": 3
  },
  {
   "metadata": {
    "ExecuteTime": {
     "end_time": "2025-07-11T07:29:15.581124Z",
     "start_time": "2025-07-11T07:27:17.030713Z"
    }
   },
   "cell_type": "code",
   "source": "bagplot(dataset, savefig=True, interactive=False, borderdist=\"max\",figname=\"maxnogeo.pdf\")",
   "id": "47ac6789c38fdc4d",
   "outputs": [
    {
     "name": "stdout",
     "output_type": "stream",
     "text": [
      "Image saved as 'maxnogeo.pdf'\n"
     ]
    }
   ],
   "execution_count": 4
  },
  {
   "metadata": {
    "ExecuteTime": {
     "end_time": "2025-07-11T07:31:08.703304Z",
     "start_time": "2025-07-11T07:31:08.607693Z"
    }
   },
   "cell_type": "code",
   "source": "cities=pd.read_csv(\"worldcities.csv\")",
   "id": "89bbf8407e6f9b3d",
   "outputs": [],
   "execution_count": 8
  },
  {
   "metadata": {
    "ExecuteTime": {
     "end_time": "2025-07-11T07:31:49.161020Z",
     "start_time": "2025-07-11T07:31:49.150210Z"
    }
   },
   "cell_type": "code",
   "source": [
    "overmil=cities[cities[\"population\"]>=1000000]\n",
    "overmillat=overmil[\"lat\"]\n",
    "overmillong=overmil[\"lng\"]\n",
    "overmilcoords=[]\n",
    "for i in range(len(overmillat)):\n",
    "    overmilcoords.append(lat_lon_to_xyz(overmillat[i],overmillong[i]))"
   ],
   "id": "6e1d533dd22b5781",
   "outputs": [],
   "execution_count": 14
  },
  {
   "metadata": {
    "ExecuteTime": {
     "end_time": "2025-07-11T07:37:42.098679Z",
     "start_time": "2025-07-11T07:32:40.645788Z"
    }
   },
   "cell_type": "code",
   "source": "bagplot(overmilcoords, savefig=True, interactive=False, geo=True, borderdist=\"mean\",figname=\"meangeo.pdf\")",
   "id": "236f1f8bb71ad772",
   "outputs": [
    {
     "name": "stderr",
     "output_type": "stream",
     "text": [
      "C:\\Users\\jokab\\OneDrive\\Dokumenty\\Diplomka\\Pythoncode\\fun.py:36: RuntimeWarning:\n",
      "\n",
      "invalid value encountered in arccos\n",
      "\n"
     ]
    },
    {
     "name": "stdout",
     "output_type": "stream",
     "text": [
      "Image saved as 'meangeo.pdf'\n"
     ]
    }
   ],
   "execution_count": 15
  },
  {
   "metadata": {
    "ExecuteTime": {
     "end_time": "2025-07-11T07:42:02.573656Z",
     "start_time": "2025-07-11T07:37:42.234260Z"
    }
   },
   "cell_type": "code",
   "source": "bagplot(overmilcoords, savefig=True, interactive=False, geo=True, borderdist=\"max\",figname=\"maxgeo.pdf\")",
   "id": "8353a98da41035e6",
   "outputs": [
    {
     "name": "stderr",
     "output_type": "stream",
     "text": [
      "C:\\Users\\jokab\\OneDrive\\Dokumenty\\Diplomka\\Pythoncode\\fun.py:36: RuntimeWarning:\n",
      "\n",
      "invalid value encountered in arccos\n",
      "\n"
     ]
    },
    {
     "name": "stdout",
     "output_type": "stream",
     "text": [
      "Image saved as 'maxgeo.pdf'\n"
     ]
    }
   ],
   "execution_count": 16
  }
 ],
 "metadata": {
  "kernelspec": {
   "display_name": "Python 3",
   "language": "python",
   "name": "python3"
  },
  "language_info": {
   "codemirror_mode": {
    "name": "ipython",
    "version": 2
   },
   "file_extension": ".py",
   "mimetype": "text/x-python",
   "name": "python",
   "nbconvert_exporter": "python",
   "pygments_lexer": "ipython2",
   "version": "2.7.6"
  }
 },
 "nbformat": 4,
 "nbformat_minor": 5
}
