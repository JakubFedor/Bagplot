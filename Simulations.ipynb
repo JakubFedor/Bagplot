{
 "cells": [
  {
   "cell_type": "code",
   "id": "initial_id",
   "metadata": {
    "collapsed": true
   },
   "source": [
    "import scipy\n",
    "from outlierscount import outliers_count"
   ],
   "outputs": [],
   "execution_count": null
  },
  {
   "metadata": {},
   "cell_type": "code",
   "source": [
    "outliers_list_k1_50_mean=[]\n",
    "outliers_list_k1_50_max=[]\n",
    "for i in range(50):\n",
    "    test=scipy.stats.vonmises_fisher.rvs(mu=[0,0,1],kappa=1,size=1000,random_state=i)\n",
    "    outliers_list_k1_50_mean.append(outliers_count(test))\n",
    "    outliers_list_k1_50_max.append(outliers_count(test,borderdist=\"max\"))"
   ],
   "id": "2ba3d4c77693d63b",
   "outputs": [],
   "execution_count": null
  },
  {
   "metadata": {},
   "cell_type": "code",
   "source": [
    "outliers_list_k1_100_mean=[]\n",
    "outliers_list_k1_100_max=[]\n",
    "for i in range(100):\n",
    "    test=scipy.stats.vonmises_fisher.rvs(mu=[0,0,1],kappa=1,size=1000,random_state=i+50)\n",
    "    outliers_list_k1_100_mean.append(outliers_count(test))\n",
    "    outliers_list_k1_100_max.append(outliers_count(test,borderdist=\"max\"))"
   ],
   "id": "e2d1dd82cd7a7710",
   "outputs": [],
   "execution_count": null
  },
  {
   "metadata": {},
   "cell_type": "code",
   "source": [
    "outliers_list_k1_500_mean=[]\n",
    "outliers_list_k1_500_max=[]\n",
    "for i in range(500):\n",
    "    test=scipy.stats.vonmises_fisher.rvs(mu=[0,0,1],kappa=1,size=1000,random_state=i+150)\n",
    "    outliers_list_k1_500_mean.append(outliers_count(test))\n",
    "    outliers_list_k1_500_max.append(outliers_count(test,borderdist=\"max\"))"
   ],
   "id": "e2a280a2eace3099",
   "outputs": [],
   "execution_count": null
  },
  {
   "metadata": {},
   "cell_type": "code",
   "source": [
    "outliers_list_k3_50_mean=[]\n",
    "outliers_list_k3_50_max=[]\n",
    "for i in range(50):\n",
    "    test=scipy.stats.vonmises_fisher.rvs(mu=[0,0,1],kappa=3,size=1000,random_state=i)\n",
    "    outliers_list_k3_50_mean.append(outliers_count(test))\n",
    "    outliers_list_k3_50_max.append(outliers_count(test,borderdist=\"max\"))"
   ],
   "id": "dda4e2220d053d85",
   "outputs": [],
   "execution_count": null
  },
  {
   "metadata": {},
   "cell_type": "code",
   "source": [
    "outliers_list_k3_100_mean=[]\n",
    "outliers_list_k3_100_max=[]\n",
    "for i in range(100):\n",
    "    test=scipy.stats.vonmises_fisher.rvs(mu=[0,0,1],kappa=3,size=1000,random_state=i+50)\n",
    "    outliers_list_k3_100_mean.append(outliers_count(test))\n",
    "    outliers_list_k3_100_max.append(outliers_count(test,borderdist=\"max\"))"
   ],
   "id": "4c8f1db4912ff209",
   "outputs": [],
   "execution_count": null
  },
  {
   "metadata": {},
   "cell_type": "code",
   "source": [
    "outliers_list_k3_500_mean=[]\n",
    "outliers_list_k3_500_max=[]\n",
    "for i in range(500):\n",
    "    test=scipy.stats.vonmises_fisher.rvs(mu=[0,0,1],kappa=3,size=1000,random_state=i+150)\n",
    "    outliers_list_k3_500_mean.append(outliers_count(test))\n",
    "    outliers_list_k3_500_max.append(outliers_count(test,borderdist=\"max\"))"
   ],
   "id": "e585556f9ea41454",
   "outputs": [],
   "execution_count": null
  },
  {
   "metadata": {},
   "cell_type": "code",
   "source": [
    "outliers_list_k5_50_mean=[]\n",
    "outliers_list_k5_50_max=[]\n",
    "for i in range(50):\n",
    "    test=scipy.stats.vonmises_fisher.rvs(mu=[0,0,1],kappa=5,size=1000,random_state=i)\n",
    "    outliers_list_k5_50_mean.append(outliers_count(test))\n",
    "    outliers_list_k5_50_max.append(outliers_count(test,borderdist=\"max\"))"
   ],
   "id": "6fa20e9745405780",
   "outputs": [],
   "execution_count": null
  },
  {
   "metadata": {},
   "cell_type": "code",
   "source": [
    "outliers_list_k5_100_mean=[]\n",
    "outliers_list_k5_100_max=[]\n",
    "for i in range(100):\n",
    "    test=scipy.stats.vonmises_fisher.rvs(mu=[0,0,1],kappa=5,size=1000,random_state=i+50)\n",
    "    outliers_list_k5_100_mean.append(outliers_count(test))\n",
    "    outliers_list_k5_100_max.append(outliers_count(test,borderdist=\"max\"))"
   ],
   "id": "f8cb62c04d1e4a5a",
   "outputs": [],
   "execution_count": null
  },
  {
   "metadata": {},
   "cell_type": "code",
   "source": [
    "outliers_list_k5_500_mean=[]\n",
    "outliers_list_k5_500_max=[]\n",
    "for i in range(500):\n",
    "    test=scipy.stats.vonmises_fisher.rvs(mu=[0,0,1],kappa=5,size=1000,random_state=i+150)\n",
    "    outliers_list_k5_500_mean.append(outliers_count(test))\n",
    "    outliers_list_k5_500_max.append(outliers_count(test,borderdist=\"max\"))"
   ],
   "id": "ab0b4fa151c758ca",
   "outputs": [],
   "execution_count": null
  },
  {
   "metadata": {},
   "cell_type": "code",
   "source": [
    "outliers_list_k05_50_mean=[]\n",
    "outliers_list_k05_50_max=[]\n",
    "for i in range(50):\n",
    "    test=scipy.stats.vonmises_fisher.rvs(mu=[0,0,1],kappa=0.5,size=1000,random_state=i)\n",
    "    outliers_list_k05_50_mean.append(outliers_count(test))\n",
    "    outliers_list_k05_50_max.append(outliers_count(test,borderdist=\"max\"))"
   ],
   "id": "e6b9b3a2d6fe0bf4",
   "outputs": [],
   "execution_count": null
  },
  {
   "metadata": {},
   "cell_type": "code",
   "source": [
    "outliers_list_k05_100_mean=[]\n",
    "outliers_list_k05_100_max=[]\n",
    "for i in range(100):\n",
    "    test=scipy.stats.vonmises_fisher.rvs(mu=[0,0,1],kappa=0.5,size=1000,random_state=i+50)\n",
    "    outliers_list_k05_100_mean.append(outliers_count(test))\n",
    "    outliers_list_k05_100_max.append(outliers_count(test,borderdist=\"max\"))"
   ],
   "id": "d479f38b1b30310",
   "outputs": [],
   "execution_count": null
  },
  {
   "metadata": {},
   "cell_type": "code",
   "source": [
    "outliers_list_k05_500_mean=[]\n",
    "outliers_list_k05_500_max=[]\n",
    "for i in range(500):\n",
    "    test=scipy.stats.vonmises_fisher.rvs(mu=[0,0,1],kappa=0.5,size=1000,random_state=i+150)\n",
    "    outliers_list_k05_500_mean.append(outliers_count(test))\n",
    "    outliers_list_k05_500_max.append(outliers_count(test,borderdist=\"max\"))"
   ],
   "id": "a6c8ff2e2d62c376",
   "outputs": [],
   "execution_count": null
  }
 ],
 "metadata": {
  "kernelspec": {
   "display_name": "Python 3",
   "language": "python",
   "name": "python3"
  },
  "language_info": {
   "codemirror_mode": {
    "name": "ipython",
    "version": 2
   },
   "file_extension": ".py",
   "mimetype": "text/x-python",
   "name": "python",
   "nbconvert_exporter": "python",
   "pygments_lexer": "ipython2",
   "version": "2.7.6"
  }
 },
 "nbformat": 4,
 "nbformat_minor": 5
}
