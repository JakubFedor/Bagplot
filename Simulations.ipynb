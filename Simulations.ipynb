{
 "cells": [
  {
   "cell_type": "code",
   "id": "initial_id",
   "metadata": {
    "collapsed": true,
    "ExecuteTime": {
     "end_time": "2025-07-12T09:43:10.502710Z",
     "start_time": "2025-07-12T09:43:01.663116Z"
    }
   },
   "source": [
    "import scipy\n",
    "from outlierscount import outliers_count"
   ],
   "outputs": [
    {
     "name": "stderr",
     "output_type": "stream",
     "text": [
      "Error importing in API mode: ImportError('On Windows, cffi mode \"ANY\" is only \"ABI\".')\n",
      "Trying to import in ABI mode.\n",
      "C:\\Users\\jokab\\OneDrive\\Dokumenty\\Diplomka\\Pythoncode\\venv\\Lib\\site-packages\\rpy2\\rinterface\\__init__.py:1211: UserWarning: Environment variable \"PATH\" redefined by R and overriding existing variable. Current: \"C:\\Users\\jokab\\OneDrive\\Dokumenty\\Diplomka\\Python code\\venv\\Scripts;C:\\Windows\\system32;C:\\Windows;C:\\Windows\\System32\\Wbem;C:\\Windows\\System32\\WindowsPowerShell\\v1.0\\;C:\\Windows\\System32\\OpenSSH\\;C:\\Program Files (x86)\\NVIDIA Corporation\\PhysX\\Common;C:\\WINDOWS\\system32;C:\\WINDOWS;C:\\WINDOWS\\System32\\Wbem;C:\\WINDOWS\\System32\\WindowsPowerShell\\v1.0\\;C:\\WINDOWS\\System32\\OpenSSH\\;C:\\Program Files (x86)\\HP\\Common\\HPDestPlgIn\\;C:\\Program Files\\NVIDIA Corporation\\NVIDIA app\\NvDLISR;C:\\Program Files\\Wolfram Research\\WolframScript\\;C:\\Program Files\\gs\\gs10.05.0\\bin;C:\\Program Files (x86)\\Windows Kits\\10\\Windows Performance Toolkit\\;C:\\Program Files\\Git\\cmd;C:\\Users\\jokab\\AppData\\Roaming\\TinyTeX\\bin\\windows;C:\\Users\\jokab\\AppData\\Local\\Microsoft\\WindowsApps;C:\\Program Files (x86)\\HP\\Common\\HPDestPlgIn\\;C:\\texlive\\2023\\bin\\windows;C:\\Users\\jokab\\AppData\\Local\\Programs\\Microsoft VS Code\\bin;C:\\Program Files\\R\\R-4.4.3\\bin\\x64\", R: \"C:\\rtools44/x86_64-w64-mingw32.static.posix/bin;C:\\rtools44/usr/bin;C:\\Users\\jokab\\OneDrive\\Dokumenty\\Diplomka\\Python code\\venv\\Scripts;C:\\Windows\\system32;C:\\Windows;C:\\Windows\\System32\\Wbem;C:\\Windows\\System32\\WindowsPowerShell\\v1.0\\;C:\\Windows\\System32\\OpenSSH\\;C:\\Program Files (x86)\\NVIDIA Corporation\\PhysX\\Common;C:\\WINDOWS\\system32;C:\\WINDOWS;C:\\WINDOWS\\System32\\Wbem;C:\\WINDOWS\\System32\\WindowsPowerShell\\v1.0\\;C:\\WINDOWS\\System32\\OpenSSH\\;C:\\Program Files (x86)\\HP\\Common\\HPDestPlgIn\\;C:\\Program Files\\NVIDIA Corporation\\NVIDIA app\\NvDLISR;C:\\Program Files\\Wolfram Research\\WolframScript\\;C:\\Program Files\\gs\\gs10.05.0\\bin;C:\\Program Files (x86)\\Windows Kits\\10\\Windows Performance Toolkit\\;C:\\Program Files\\Git\\cmd;C:\\Users\\jokab\\AppData\\Roaming\\TinyTeX\\bin\\windows;C:\\Users\\jokab\\AppData\\Local\\Microsoft\\WindowsApps;C:\\Program Files (x86)\\HP\\Common\\HPDestPlgIn\\;C:\\texlive\\2023\\bin\\windows;C:\\Users\\jokab\\AppData\\Local\\Programs\\Microsoft VS Code\\bin;C:\\Program Files\\R\\R-4.4.3\\bin\\x64\"\n",
      "  warnings.warn(\n",
      "C:\\Users\\jokab\\OneDrive\\Dokumenty\\Diplomka\\Pythoncode\\venv\\Lib\\site-packages\\rpy2\\rinterface\\__init__.py:1211: UserWarning: Environment variable \"PATH\" redefined by R and overriding existing variable. Current: \"C:\\rtools44/x86_64-w64-mingw32.static.posix/bin;C:\\rtools44/usr/bin;C:\\Users\\jokab\\OneDrive\\Dokumenty\\Diplomka\\Python code\\venv\\Scripts;C:\\Windows\\system32;C:\\Windows;C:\\Windows\\System32\\Wbem;C:\\Windows\\System32\\WindowsPowerShell\\v1.0\\;C:\\Windows\\System32\\OpenSSH\\;C:\\Program Files (x86)\\NVIDIA Corporation\\PhysX\\Common;C:\\WINDOWS\\system32;C:\\WINDOWS;C:\\WINDOWS\\System32\\Wbem;C:\\WINDOWS\\System32\\WindowsPowerShell\\v1.0\\;C:\\WINDOWS\\System32\\OpenSSH\\;C:\\Program Files (x86)\\HP\\Common\\HPDestPlgIn\\;C:\\Program Files\\NVIDIA Corporation\\NVIDIA app\\NvDLISR;C:\\Program Files\\Wolfram Research\\WolframScript\\;C:\\Program Files\\gs\\gs10.05.0\\bin;C:\\Program Files (x86)\\Windows Kits\\10\\Windows Performance Toolkit\\;C:\\Program Files\\Git\\cmd;C:\\Users\\jokab\\AppData\\Roaming\\TinyTeX\\bin\\windows;C:\\Users\\jokab\\AppData\\Local\\Microsoft\\WindowsApps;C:\\Program Files (x86)\\HP\\Common\\HPDestPlgIn\\;C:\\texlive\\2023\\bin\\windows;C:\\Users\\jokab\\AppData\\Local\\Programs\\Microsoft VS Code\\bin;C:\\Program Files\\R\\R-4.4.3\\bin\\x64\", R: \"C:\\rtools44/x86_64-w64-mingw32.static.posix/bin;C:\\rtools44/usr/bin;C:\\rtools44/x86_64-w64-mingw32.static.posix/bin;C:\\rtools44/usr/bin;C:\\rtools44/x86_64-w64-mingw32.static.posix/bin;C:\\rtools44/usr/bin;C:\\Users\\jokab\\OneDrive\\Dokumenty\\Diplomka\\Python code\\venv\\Scripts;C:\\Windows\\system32;C:\\Windows;C:\\Windows\\System32\\Wbem;C:\\Windows\\System32\\WindowsPowerShell\\v1.0\\;C:\\Windows\\System32\\OpenSSH\\;C:\\Program Files (x86)\\NVIDIA Corporation\\PhysX\\Common;C:\\WINDOWS\\system32;C:\\WINDOWS;C:\\WINDOWS\\System32\\Wbem;C:\\WINDOWS\\System32\\WindowsPowerShell\\v1.0\\;C:\\WINDOWS\\System32\\OpenSSH\\;C:\\Program Files (x86)\\HP\\Common\\HPDestPlgIn\\;C:\\Program Files\\NVIDIA Corporation\\NVIDIA app\\NvDLISR;C:\\Program Files\\Wolfram Research\\WolframScript\\;C:\\Program Files\\gs\\gs10.05.0\\bin;C:\\Program Files (x86)\\Windows Kits\\10\\Windows Performance Toolkit\\;C:\\Program Files\\Git\\cmd;C:\\Users\\jokab\\AppData\\Roaming\\TinyTeX\\bin\\windows;C:\\Users\\jokab\\AppData\\Local\\Microsoft\\WindowsApps;C:\\Program Files (x86)\\HP\\Common\\HPDestPlgIn\\;C:\\texlive\\2023\\bin\\windows;C:\\Users\\jokab\\AppData\\Local\\Programs\\Microsoft VS Code\\bin;C:\\Program Files\\R\\R-4.4.3\\bin\\x64\"\n",
      "  warnings.warn(\n"
     ]
    }
   ],
   "execution_count": 3
  },
  {
   "metadata": {},
   "cell_type": "code",
   "source": [
    "outliers_list_k1_500_mean=[]\n",
    "outliers_list_k1_500_max=[]\n",
    "for i in range(500):\n",
    "    test=scipy.stats.vonmises_fisher.rvs(mu=[0,0,1],kappa=1,size=1000,random_state=i+150)\n",
    "    outliers_list_k1_500_mean.append(outliers_count(test))\n",
    "    outliers_list_k1_500_max.append(outliers_count(test,borderdist=\"max\"))"
   ],
   "id": "e2a280a2eace3099",
   "outputs": [],
   "execution_count": null
  },
  {
   "metadata": {},
   "cell_type": "code",
   "source": [
    "outliers_list_k3_500_mean=[]\n",
    "outliers_list_k3_500_max=[]\n",
    "for i in range(500):\n",
    "    test=scipy.stats.vonmises_fisher.rvs(mu=[0,0,1],kappa=3,size=1000,random_state=i+150)\n",
    "    outliers_list_k3_500_mean.append(outliers_count(test))\n",
    "    outliers_list_k3_500_max.append(outliers_count(test,borderdist=\"max\"))"
   ],
   "id": "e585556f9ea41454",
   "outputs": [],
   "execution_count": null
  },
  {
   "metadata": {},
   "cell_type": "code",
   "source": [
    "outliers_list_k5_500_mean=[]\n",
    "outliers_list_k5_500_max=[]\n",
    "for i in range(500):\n",
    "    test=scipy.stats.vonmises_fisher.rvs(mu=[0,0,1],kappa=5,size=1000,random_state=i+150)\n",
    "    outliers_list_k5_500_mean.append(outliers_count(test))\n",
    "    outliers_list_k5_500_max.append(outliers_count(test,borderdist=\"max\"))"
   ],
   "id": "ab0b4fa151c758ca",
   "outputs": [],
   "execution_count": null
  },
  {
   "metadata": {},
   "cell_type": "code",
   "source": [
    "outliers_list_k05_500_mean=[]\n",
    "outliers_list_k05_500_max=[]\n",
    "for i in range(500):\n",
    "    test=scipy.stats.vonmises_fisher.rvs(mu=[0,0,1],kappa=0.5,size=1000,random_state=i+150)\n",
    "    outliers_list_k05_500_mean.append(outliers_count(test))\n",
    "    outliers_list_k05_500_max.append(outliers_count(test,borderdist=\"max\"))"
   ],
   "id": "a6c8ff2e2d62c376",
   "outputs": [],
   "execution_count": null
  },
  {
   "metadata": {},
   "cell_type": "code",
   "outputs": [],
   "execution_count": null,
   "source": "",
   "id": "8caa73a8e2d03398"
  }
 ],
 "metadata": {
  "kernelspec": {
   "display_name": "Python 3",
   "language": "python",
   "name": "python3"
  },
  "language_info": {
   "codemirror_mode": {
    "name": "ipython",
    "version": 2
   },
   "file_extension": ".py",
   "mimetype": "text/x-python",
   "name": "python",
   "nbconvert_exporter": "python",
   "pygments_lexer": "ipython2",
   "version": "2.7.6"
  }
 },
 "nbformat": 4,
 "nbformat_minor": 5
}
